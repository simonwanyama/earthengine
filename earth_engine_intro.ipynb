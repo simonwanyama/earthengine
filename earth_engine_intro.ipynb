{
  "nbformat": 4,
  "nbformat_minor": 0,
  "metadata": {
    "colab": {
      "name": "earth_engine_intro.ipynb",
      "provenance": [],
      "authorship_tag": "ABX9TyNrDtKcRtfmxdX9a9MKadGL",
      "include_colab_link": true
    },
    "kernelspec": {
      "name": "python3",
      "display_name": "Python 3"
    }
  },
  "cells": [
    {
      "cell_type": "markdown",
      "metadata": {
        "id": "view-in-github",
        "colab_type": "text"
      },
      "source": [
        "<a href=\"https://colab.research.google.com/github/simonwanyama/earthengine/blob/Introduction/earth_engine_intro.ipynb\" target=\"_parent\"><img src=\"https://colab.research.google.com/assets/colab-badge.svg\" alt=\"Open In Colab\"/></a>"
      ]
    },
    {
      "cell_type": "code",
      "metadata": {
        "id": "eOHnXRqtxxt7",
        "colab_type": "code",
        "colab": {}
      },
      "source": [
        "import ee\n",
        "import folium\n",
        "import geehydro\n",
        "from datetime import datetime as dt\n",
        "from IPython.display import Image"
      ],
      "execution_count": null,
      "outputs": []
    },
    {
      "cell_type": "code",
      "metadata": {
        "id": "RT_NQJSuzNBP",
        "colab_type": "code",
        "colab": {}
      },
      "source": [
        "#  Authenticate and initialize the connection to the server\n",
        "\n",
        "# ee.Authenticate()\n",
        "# ee.Initialize()"
      ],
      "execution_count": null,
      "outputs": []
    },
    {
      "cell_type": "code",
      "metadata": {
        "id": "0mFvmT48Nx2N",
        "colab_type": "code",
        "colab": {}
      },
      "source": [
        ""
      ],
      "execution_count": null,
      "outputs": []
    }
  ]
}